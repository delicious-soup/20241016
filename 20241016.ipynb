{
 "cells": [
  {
   "cell_type": "code",
   "execution_count": 9,
   "id": "38078005-ca1b-44c4-9c32-961fbf3bf647",
   "metadata": {},
   "outputs": [
    {
     "name": "stdout",
     "output_type": "stream",
     "text": [
      "找到 6 次\n"
     ]
    }
   ],
   "source": [
    "import requests\n",
    "url = 'https://2023ntcu.ntcu.edu.tw/'\n",
    "html = requests.get(url)\n",
    "html.enncoding=\"utf-8\"\n",
    "#print(html.text)\n",
    "htmllist = html.text.splitlines()\n",
    "#print(htmllist)\n",
    "\n",
    "n=0\n",
    "keyword = \"臺中\"\n",
    "for row in htmllist:\n",
    "    if keyword in row:\n",
    "        n = n + 1 \n",
    "print(\"找到 {} 次\".format(n))"
   ]
  },
  {
   "cell_type": "code",
   "execution_count": 13,
   "id": "94bc0e8f-0136-471a-9301-3c1794e20927",
   "metadata": {},
   "outputs": [
    {
     "name": "stdout",
     "output_type": "stream",
     "text": [
      "找到 4 次\n"
     ]
    }
   ],
   "source": [
    "import requests\n",
    "from bs4 import BeautifulSoup\n",
    "\n",
    "url = 'https://2023ntcu.ntcu.edu.tw/'\n",
    "html = requests.get(url)\n",
    "html.enncoding=\"utf-8\"\n",
    "#print(html.text)\n",
    "soup = BeautifulSoup(html.text, 'html.parser')\n",
    "#print(soup.prettify())\n",
    "\n",
    "n = 0\n",
    "keyword = \"臺中\"\n",
    "for text in soup.stripped_strings:\n",
    "    if keyword in text:\n",
    "        n = n + 1 \n",
    "print(\"找到 {} 次\".format(n))"
   ]
  },
  {
   "cell_type": "code",
   "execution_count": 17,
   "id": "7ca0d3c9-75de-484f-a58e-e970de8f2fb3",
   "metadata": {},
   "outputs": [
    {
     "name": "stdout",
     "output_type": "stream",
     "text": [
      "200\n"
     ]
    }
   ],
   "source": [
    "import requests\n",
    "url = 'https://www.thsrc.com.tw/'\n",
    "html = requests.get(url)\n",
    "html.encoding=\"utl-8\"\n",
    "\n",
    "print(html.status_code)"
   ]
  },
  {
   "cell_type": "code",
   "execution_count": null,
   "id": "a62d668b-3f8f-46ac-b949-83f950e3a8c8",
   "metadata": {},
   "outputs": [],
   "source": []
  }
 ],
 "metadata": {
  "kernelspec": {
   "display_name": "Python 3 (ipykernel)",
   "language": "python",
   "name": "python3"
  },
  "language_info": {
   "codemirror_mode": {
    "name": "ipython",
    "version": 3
   },
   "file_extension": ".py",
   "mimetype": "text/x-python",
   "name": "python",
   "nbconvert_exporter": "python",
   "pygments_lexer": "ipython3",
   "version": "3.12.4"
  }
 },
 "nbformat": 4,
 "nbformat_minor": 5
}
